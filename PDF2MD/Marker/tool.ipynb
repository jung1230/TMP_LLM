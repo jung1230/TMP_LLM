{
 "cells": [
  {
   "cell_type": "markdown",
   "metadata": {},
   "source": [
    "# Count data entries are in your .json file"
   ]
  },
  {
   "cell_type": "code",
   "execution_count": 4,
   "metadata": {},
   "outputs": [
    {
     "name": "stdout",
     "output_type": "stream",
     "text": [
      "current working directory: d:\\MS Purdue\\LAB\\TMP LLM\\PDF2MD\\Marker\n",
      "Total number of entries: 5045\n"
     ]
    }
   ],
   "source": [
    "import json\n",
    "import os\n",
    "# Path to your dataset file\n",
    "json_file_path = './../../data/alpaca_data.json'\n",
    "\n",
    "def count_entries(file_path):\n",
    "    with open(file_path, 'r', encoding='utf-8') as f:\n",
    "        data = json.load(f)\n",
    "    print(f\"Total number of entries: {len(data)}\")\n",
    "\n",
    "\n",
    "print(\"current working directory:\", os.getcwd())\n",
    "count_entries(json_file_path)\n",
    "\n"
   ]
  }
 ],
 "metadata": {
  "kernelspec": {
   "display_name": "TMPLLM",
   "language": "python",
   "name": "python3"
  },
  "language_info": {
   "codemirror_mode": {
    "name": "ipython",
    "version": 3
   },
   "file_extension": ".py",
   "mimetype": "text/x-python",
   "name": "python",
   "nbconvert_exporter": "python",
   "pygments_lexer": "ipython3",
   "version": "3.13.2"
  }
 },
 "nbformat": 4,
 "nbformat_minor": 2
}
